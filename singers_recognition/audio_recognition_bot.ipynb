{
  "cells": [
    {
      "cell_type": "code",
      "execution_count": null,
      "metadata": {
        "id": "JdlGeLTHCQiC",
        "colab": {
          "base_uri": "https://localhost:8080/"
        },
        "outputId": "3b19dd63-76ad-4d82-a19e-f2c4624d0209"
      },
      "outputs": [
        {
          "output_type": "stream",
          "name": "stdout",
          "text": [
            "Mounted at /content/drive\n"
          ]
        }
      ],
      "source": [
        "from google.colab import drive\n",
        "drive.mount('/content/drive')"
      ]
    },
    {
      "cell_type": "code",
      "execution_count": null,
      "metadata": {
        "colab": {
          "base_uri": "https://localhost:8080/",
          "height": 35
        },
        "id": "bYBj5cT7H3HS",
        "outputId": "7d408a4e-cc5e-4ad1-e812-94caea11439b"
      },
      "outputs": [
        {
          "data": {
            "application/vnd.google.colaboratory.intrinsic+json": {
              "type": "string"
            },
            "text/plain": [
              "'2.15.0'"
            ]
          },
          "execution_count": 8,
          "metadata": {},
          "output_type": "execute_result"
        }
      ],
      "source": [
        "tf.__version__"
      ]
    },
    {
      "cell_type": "code",
      "execution_count": null,
      "metadata": {
        "id": "tJavYEk1e_vE",
        "colab": {
          "base_uri": "https://localhost:8080/"
        },
        "outputId": "10b10e1e-60b9-49b0-caa4-4faea486a33a"
      },
      "outputs": [
        {
          "output_type": "stream",
          "name": "stdout",
          "text": [
            "Reading package lists... Done\n",
            "Building dependency tree... Done\n",
            "Reading state information... Done\n",
            "ffmpeg is already the newest version (7:4.4.2-0ubuntu0.22.04.1).\n",
            "0 upgraded, 0 newly installed, 0 to remove and 24 not upgraded.\n",
            "\u001b[2K     \u001b[90m━━━━━━━━━━━━━━━━━━━━━━━━━━━━━━━━━━━━━━━━\u001b[0m \u001b[32m244.2/244.2 kB\u001b[0m \u001b[31m4.7 MB/s\u001b[0m eta \u001b[36m0:00:00\u001b[0m\n",
            "\u001b[?25h  Preparing metadata (setup.py) ... \u001b[?25l\u001b[?25hdone\n",
            "  Building wheel for pyTelegramBotAPI (setup.py) ... \u001b[?25l\u001b[?25hdone\n",
            "  Preparing metadata (setup.py) ... \u001b[?25l\u001b[?25hdone\n",
            "  Building wheel for telegram (setup.py) ... \u001b[?25l\u001b[?25hdone\n"
          ]
        }
      ],
      "source": [
        "!apt install ffmpeg\n",
        "# !pip install -q spleeter\n",
        "!pip install -q TeleBot\n",
        "!pip install -q pyTelegramBotAPI\n",
        "!pip install -q telegram\n",
        "!pip install -q pydub\n",
        "# !pip install tensorflow==2.15.0\n",
        "# !pip install tensorflow-io-gcs-filesystem\n",
        "# !pip install tensorflow-estimator"
      ]
    },
    {
      "cell_type": "code",
      "source": [
        "!pip install protobuf"
      ],
      "metadata": {
        "colab": {
          "base_uri": "https://localhost:8080/"
        },
        "id": "7odcUVkluyKa",
        "outputId": "3e221099-da09-45cc-ee82-3f63b5866059"
      },
      "execution_count": null,
      "outputs": [
        {
          "output_type": "stream",
          "name": "stdout",
          "text": [
            "Requirement already satisfied: protobuf in /usr/local/lib/python3.10/dist-packages (4.23.4)\n"
          ]
        }
      ]
    },
    {
      "cell_type": "code",
      "execution_count": null,
      "metadata": {
        "id": "BrIVv8nrxWyQ"
      },
      "outputs": [],
      "source": [
        "import os\n",
        "import telebot\n",
        "import telegram\n",
        "import tensorflow as tf\n",
        "import numpy as np\n",
        "import pydub\n",
        "from IPython.display import Audio\n",
        "#from spleeter.separator import Separator\n"
      ]
    },
    {
      "cell_type": "code",
      "execution_count": null,
      "metadata": {
        "id": "SV4Av9WUxWyR",
        "colab": {
          "base_uri": "https://localhost:8080/"
        },
        "outputId": "e71f2314-12a4-4992-f487-c11e69f5fc67"
      },
      "outputs": [
        {
          "output_type": "stream",
          "name": "stdout",
          "text": [
            "1/1 [==============================] - 0s 152ms/step\n",
            "singer: yegane\n",
            "The owner of this song is : yegane \n",
            "1/1 [==============================] - 0s 23ms/step\n",
            "The owner of this song is : yegane \n",
            "1/1 [==============================] - 0s 33ms/step\n",
            "singer: sirvan\n",
            "The owner of this song is : sirvan \n",
            "1/1 [==============================] - 0s 22ms/step\n",
            "The owner of this song is : sirvan \n",
            "1/1 [==============================] - 0s 22ms/step\n",
            "singer: xaniar\n",
            "The owner of this song is : xaniar \n",
            "1/1 [==============================] - 0s 37ms/step\n",
            "The owner of this song is : xaniar \n",
            "1/1 [==============================] - 0s 36ms/step\n",
            "singer: chaartar\n",
            "The owner of this song is : chaartar \n",
            "1/1 [==============================] - 0s 23ms/step\n",
            "The owner of this song is : chaartar \n",
            "1/1 [==============================] - 0s 36ms/step\n",
            "singer: sirvan\n",
            "The owner of this song is : sirvan \n",
            "1/1 [==============================] - 0s 25ms/step\n",
            "The owner of this song is : sirvan \n"
          ]
        },
        {
          "output_type": "stream",
          "name": "stderr",
          "text": [
            "2023-12-30 08:34:05,270 (__init__.py:968 MainThread) ERROR - TeleBot: \"Infinity polling: polling exited\"\n",
            "ERROR:TeleBot:Infinity polling: polling exited\n",
            "2023-12-30 08:34:05,274 (__init__.py:970 MainThread) ERROR - TeleBot: \"Break infinity polling\"\n",
            "ERROR:TeleBot:Break infinity polling\n"
          ]
        }
      ],
      "source": [
        "bot = telebot.TeleBot(\"6370453544:AAEI0zlqAp9HaPkuQv3o448Qs5YoYN1qSbs\")\n",
        "model = tf.keras.models.load_model(\"/content/drive/MyDrive/singers_folders/weights/friends_audio_classification_2.h5\")\n",
        "model2 = tf.keras.models.load_model(\"/content/drive/MyDrive/singers_folders/weights/ADAMAX_SIGNERS_weights.h5\")\n",
        "\n",
        "\n",
        "\n",
        "@bot.message_handler(commands=[\"start\"])\n",
        "def send_welcome(message):\n",
        "    bot.send_message(message.chat.id , \"Hello \" + message.from_user.first_name + \"\\nWelcome to Audio Recognizer bot🎙🎵🔊\" )\n",
        "    help(message)\n",
        "\n",
        "@bot.message_handler(commands=['help'])\n",
        "def help(message):\n",
        "    my_keyboard= telebot.types.ReplyKeyboardMarkup(row_width=3)\n",
        "    key1 = telebot.types.KeyboardButton(\"/Friends_voice_recognition\")\n",
        "    key2 = telebot.types.KeyboardButton(\"/Singers_voice_recognition\")\n",
        "    my_keyboard.row(key1)\n",
        "    my_keyboard.row(key2)\n",
        "    bot.send_message(message.chat.id ,\"Choose one of the below keys :\" , reply_markup=my_keyboard)\n",
        "\n",
        "\n",
        "@bot.message_handler(commands=['Friends_voice_recognition'])\n",
        "def mymessage(message):\n",
        "  message1 = bot.send_message(message.chat.id , \"Now send a voice ... \")\n",
        "  bot.register_next_step_handler(message1 , friends_voice_recognizer)\n",
        "\n",
        "@bot.message_handler(content_types=['voice'])\n",
        "def friends_voice_recognizer(message):\n",
        "  file_id = message.voice.file_id\n",
        "  new_file = bot.get_file(file_id)\n",
        "  file_path = bot.get_file(file_id).file_path\n",
        "  downloaded_file = bot.download_file(file_path)\n",
        "  try:\n",
        "      with open(\"/content/drive/MyDrive/singers_folders/data/voice.ogg\", 'wb') as new_file:\n",
        "          new_file.write(downloaded_file)\n",
        "  except Exception as e:\n",
        "      bot.reply_to(message, \"Error saving file.\")\n",
        "      return\n",
        "\n",
        "  audio = pydub.AudioSegment.from_file(\"/content/drive/MyDrive/singers_folders/data/voice.ogg\")\n",
        "  audio_array = audio.get_array_of_samples()\n",
        "  silent_chunks = pydub.silence.split_on_silence(audio , min_silence_len=2000 , silence_thresh=-45)\n",
        "  result = sum(silent_chunks)\n",
        "  result.export(\"/content/drive/MyDrive/singers_folders/wav_data/voice.wav\")\n",
        "  audio = pydub.AudioSegment.from_file(\"/content/drive/MyDrive/singers_folders/wav_data/voice.wav\")\n",
        "  chunks = pydub.utils.make_chunks(audio , 1000)\n",
        "  for i , chunk in enumerate(chunks) :\n",
        "      if len(chunk) >= 1000 :\n",
        "          chunk.export(os.path.join(\"/content/drive/MyDrive/singers_folders/dataset/z/\" , \"fvoice.wav\") , format=\"wav\")\n",
        "\n",
        "\n",
        "  test_data = tf.keras.utils.audio_dataset_from_directory(\n",
        "    \"/content/drive/MyDrive/singers_folders/dataset\",\n",
        "    shuffle=False,batch_size=8,output_sequence_length= 48000,ragged= False,\n",
        "    labels=\"inferred\",label_mode=\"categorical\",sampling_rate= None,seed=59\n",
        "  )\n",
        "\n",
        "  classes_labels = np.array(['abdollah', 'azra', 'davood', 'javad', 'khadijeh', 'kiana','maryam', 'matin','melika', 'mohammad',\n",
        "                             'mohammad_parvari','mona', 'nahid', 'nima', 'omid', 'parisa','parsa', 'sadegh', 'sajedeh', 'shima', 'tara'])\n",
        "  predictions = model.predict(test_data)\n",
        "  probability = predictions\n",
        "  predicted_class_index = np.argmax(probability)\n",
        "  print(predicted_class_index)\n",
        "  predicted_class = classes_labels[predicted_class_index]\n",
        "  print(predicted_class)\n",
        "  print(f'The owner of this voice is : {predicted_class}')\n",
        "  bot.send_message(chat_id= message.chat.id , text=f'The owner of this voice is  :  {predicted_class}')\n",
        "\n",
        "\n",
        "\n",
        "\n",
        "#~~~~~~~~~~~~~~~~ singers audio recognition ~~~~~~~~~~~~~~~~~~~~~~~~~~~~\n",
        "@bot.message_handler(commands=['Singers_voice_recognition'])\n",
        "def mymessage2(message):\n",
        "  message2 = bot.send_message(message.chat.id , \"Now send a song , and wait for 15 seconds ... \")\n",
        "  bot.register_next_step_handler(message2 , singers_voice_recognition)\n",
        "\n",
        "@bot.message_handler(content_types=['audio'])\n",
        "def singers_voice_recognition(message):\n",
        "\n",
        "  file_id = message.audio.file_id\n",
        "  new_file = bot.get_file(file_id)\n",
        "  file_path = bot.get_file(file_id).file_path\n",
        "  downloaded_file = bot.download_file(file_path)\n",
        "  try:\n",
        "      with open(\"/content/drive/MyDrive/singers_folders/data/audio.mp3\", 'wb') as new_file:\n",
        "          new_file.write(downloaded_file)\n",
        "  except Exception as e:\n",
        "      bot.reply_to(message, \"Error saving file.\")\n",
        "      return\n",
        "\n",
        "\n",
        "  for file in os.listdir(\"/content/audio\"):\n",
        "    file_name = os.path.basename(file)\n",
        "    f = os.path.splitext(file_name)\n",
        "    if f[0] == \"vocals\" :\n",
        "      audio = pydub.AudioSegment.from_file(os.path.join(\"/content/audio\" , file))\n",
        "      silent_chunks = pydub.silence.split_on_silence(audio , min_silence_len=2000 , silence_thresh=-45)\n",
        "      result = sum(silent_chunks)\n",
        "      result.export(\"/content/drive/MyDrive/singers_folders/wav_data2/\"+ file)\n",
        "\n",
        "  for file in os.listdir(\"/content/audio\"):\n",
        "    file_name = os.path.basename(file)\n",
        "    f = os.path.splitext(file_name)\n",
        "    if f[0] == \"vocals\" :\n",
        "      audio = pydub.AudioSegment.from_file(os.path.join(\"/content/audio\" , file))\n",
        "      chunks = pydub.utils.make_chunks(audio , 1000)\n",
        "      # create a folder for each person\n",
        "      person_name = file.split(\".\")[0]\n",
        "      os.makedirs(os.path.join(\"/content/drive/MyDrive/singers_folders/dataset2\" , person_name) , exist_ok=True)\n",
        "      for i , chunk in enumerate(chunks) :\n",
        "          if len(chunk) >= 1000 : # if len chunk is more than 1 second\n",
        "              chunk.export(os.path.join(\"/content/drive/MyDrive/singers_folders/dataset2\" , person_name , f\"voice_{i}.wav\") , format=\"wav\")\n",
        "\n",
        "  #choose a random 1 sec file :\n",
        "  pred_list = []\n",
        "  #for i , file in enumerate(os.listdir(\"/content/drive/MyDrive/singers_folders/dataset2/vocals\")):\n",
        "  file_path = \"/content/audio/vocals.wav\"#f\"/content/drive/MyDrive/singers_folders/dataset2/vocals/voice_{i}.wav\"\n",
        "  x = tf.io.read_file(file_path)\n",
        "  x, sample_rate = tf.audio.decode_wav(x, desired_channels=1, desired_samples=48000,)\n",
        "  x = tf.squeeze(x , axis=-1)\n",
        "  x = x[tf.newaxis, ...]\n",
        "  classes_labels = np.array(['chaartar', 'chavoshi', 'sirvan', 'xaniar', 'yegane'])\n",
        "  predictions = model2.predict(x)\n",
        "  predicted_class_index = np.argmax(predictions)\n",
        "  predicted_class = classes_labels[predicted_class_index]\n",
        "  pred_list.append(predicted_class)\n",
        "\n",
        "  predicted_class = max(pred_list ,key=pred_list.count)\n",
        "  print(f'The owner of this song is : {predicted_class} ')\n",
        "  bot.send_message(chat_id= message.chat.id , text=f'The singer of this song is  :  {predicted_class}')\n",
        "\n",
        "\n",
        "\n",
        "bot.infinity_polling()"
      ]
    }
  ],
  "metadata": {
    "colab": {
      "provenance": []
    },
    "kernelspec": {
      "display_name": "Python 3",
      "language": "python",
      "name": "python3"
    },
    "language_info": {
      "codemirror_mode": {
        "name": "ipython",
        "version": 3
      },
      "file_extension": ".py",
      "mimetype": "text/x-python",
      "name": "python",
      "nbconvert_exporter": "python",
      "pygments_lexer": "ipython3",
      "version": "3.10.1"
    }
  },
  "nbformat": 4,
  "nbformat_minor": 0
}