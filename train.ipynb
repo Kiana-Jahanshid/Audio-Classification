{
  "cells": [
    {
      "cell_type": "code",
      "execution_count": 11,
      "metadata": {
        "id": "2dZDsn80rCaH"
      },
      "outputs": [],
      "source": [
        "import os\n",
        "import tensorflow as tf\n",
        "import numpy as np\n",
        "import pydub\n",
        "import matplotlib.pyplot as plt"
      ]
    },
    {
      "cell_type": "markdown",
      "metadata": {
        "id": "jpDPQ1d8rbBt"
      },
      "source": [
        "# load dataset in tesorflow format :"
      ]
    },
    {
      "cell_type": "code",
      "execution_count": 2,
      "metadata": {
        "id": "I7xg1EW6rfsa"
      },
      "outputs": [
        {
          "name": "stdout",
          "output_type": "stream",
          "text": [
            "Found 1770 files belonging to 21 classes.\n",
            "Using 1416 files for training.\n",
            "Found 1770 files belonging to 21 classes.\n",
            "Using 354 files for validation.\n"
          ]
        }
      ],
      "source": [
        "dataset_path = \"./dataset/\"\n",
        "\n",
        "train_data = tf.keras.utils.audio_dataset_from_directory(\n",
        "    dataset_path,\n",
        "    batch_size=4,\n",
        "    shuffle=True,\n",
        "    validation_split=0.2,\n",
        "    subset=\"training\",\n",
        "\n",
        "    # new parameter for AUDIO task\n",
        "    #طول هرکدوم از دیتاهای صوت مون باید ۴۸هزار باشه ، اما در بخش قبل گفتیم یک ثانیه ای باشند هرکدوم\n",
        "    output_sequence_length= 48000,\n",
        "\n",
        "    # دیتاهای ورودی به شبکه طول های متفاوت داشته باشند یا خیر \n",
        "    # ragged means data with different length, so we consider it false\n",
        "    ragged= False, \n",
        "\n",
        "    # inferred value, generate labels from the directory structure it self automatically.\n",
        "    # refers to 'audio_dataset_from_directory' in tensorflow.org\n",
        "    labels=\"inferred\",\n",
        "    \n",
        "    label_mode=\"categorical\",\n",
        "\n",
        "    # it will raise << tensorflow_io.so >> error , therefore here we dont consider it , and set it to None\n",
        "    # we will determine sample rate in 'make_dataset' part, and handle it with pydub\n",
        "    sampling_rate= None,\n",
        "    seed=59\n",
        ")\n",
        "\n",
        "\n",
        "validation_data = tf.keras.utils.audio_dataset_from_directory(\n",
        "    dataset_path,\n",
        "    batch_size=4,\n",
        "    shuffle=True,\n",
        "    validation_split=0.2,\n",
        "    subset=\"validation\",\n",
        "\n",
        "    # new parameter for AUDIO task\n",
        "    output_sequence_length= 48000,\n",
        "    ragged= False, \n",
        "    labels=\"inferred\",\n",
        "    label_mode=\"categorical\",\n",
        "    sampling_rate= None,\n",
        "    seed=59\n",
        ")\n"
      ]
    },
    {
      "cell_type": "markdown",
      "metadata": {},
      "source": [
        "seed : <br/>\n",
        "اگر پارامتر سییید رو تعریف نکنیم ارور میده <br/>\n",
        "error : ValueError: If using **`validation_split`** and **shuffling** the data, you must provide a `seed` argument, to make sure that there is no overlap between the training and validation subset.\n",
        "<br/>\n",
        "علت : <br/>\n",
        "تا وقتی میخواد ۰.۲ از دیتا هارو بده به ولیدیشن  ، و ۰.۸ هم برای ترین \n",
        "اتفاقی یک دیتا هم توی ولیدیشن و هم توی قسمت ترین نره \n",
        "و یا یک دیتا نه توی ترین و نه توی ولیدیشن نباشه \n",
        "چون بصورت رندوم دارن انتخاب میشن ممکنه این اشکال پیش بیاد\n",
        "با تعریف سیید ،‌ میگیم که انتخاب داده ها برای پارت های ترین و ولیدیشن کنترل شده میشه و دیگه دیتاها همپوشانی ندارند ."
      ]
    },
    {
      "cell_type": "markdown",
      "metadata": {},
      "source": [
        "# Creating model :"
      ]
    },
    {
      "cell_type": "code",
      "execution_count": 18,
      "metadata": {},
      "outputs": [
        {
          "name": "stdout",
          "output_type": "stream",
          "text": [
            "Model: \"sequential_3\"\n",
            "_________________________________________________________________\n",
            " Layer (type)                Output Shape              Param #   \n",
            "=================================================================\n",
            " conv1d_15 (Conv1D)          (None, 2996, 16)          1296      \n",
            "                                                                 \n",
            " max_pooling1d_15 (MaxPoolin  (None, 749, 16)          0         \n",
            " g1D)                                                            \n",
            "                                                                 \n",
            " conv1d_16 (Conv1D)          (None, 747, 16)           784       \n",
            "                                                                 \n",
            " batch_normalization_3 (Batc  (None, 747, 16)          64        \n",
            " hNormalization)                                                 \n",
            "                                                                 \n",
            " max_pooling1d_16 (MaxPoolin  (None, 186, 16)          0         \n",
            " g1D)                                                            \n",
            "                                                                 \n",
            " conv1d_17 (Conv1D)          (None, 184, 16)           784       \n",
            "                                                                 \n",
            " max_pooling1d_17 (MaxPoolin  (None, 46, 16)           0         \n",
            " g1D)                                                            \n",
            "                                                                 \n",
            " conv1d_18 (Conv1D)          (None, 44, 32)            1568      \n",
            "                                                                 \n",
            " max_pooling1d_18 (MaxPoolin  (None, 11, 32)           0         \n",
            " g1D)                                                            \n",
            "                                                                 \n",
            " conv1d_19 (Conv1D)          (None, 9, 32)             3104      \n",
            "                                                                 \n",
            " max_pooling1d_19 (MaxPoolin  (None, 2, 32)            0         \n"
          ]
        },
        {
          "name": "stdout",
          "output_type": "stream",
          "text": [
            " g1D)                                                            \n",
            "                                                                 \n",
            " flatten_3 (Flatten)         (None, 64)                0         \n",
            "                                                                 \n",
            " dense_3 (Dense)             (None, 21)                1365      \n",
            "                                                                 \n",
            "=================================================================\n",
            "Total params: 8,965\n",
            "Trainable params: 8,933\n",
            "Non-trainable params: 32\n",
            "_________________________________________________________________\n"
          ]
        }
      ],
      "source": [
        "model = tf.keras.models.Sequential([\n",
        "    tf.keras.layers.Conv1D(16, kernel_size = 80,strides = 16, activation = \"relu\", input_shape = (48000, 1)),\n",
        "    tf.keras.layers.MaxPooling1D(4),\n",
        "    tf.keras.layers.Conv1D(16, kernel_size = 3, activation = \"relu\"),\n",
        "    tf.keras.layers.BatchNormalization(),\n",
        "    tf.keras.layers.MaxPooling1D(4),\n",
        "    tf.keras.layers.Conv1D(16, kernel_size = 3,activation = \"relu\"),\n",
        "    tf.keras.layers.MaxPooling1D(4),\n",
        "    tf.keras.layers.Conv1D(32, kernel_size = 3,activation = \"relu\"),\n",
        "    tf.keras.layers.MaxPooling1D(4),\n",
        "    tf.keras.layers.Conv1D(32, kernel_size = 3,activation = \"relu\"),\n",
        "    tf.keras.layers.MaxPooling1D(4),\n",
        "\n",
        "    # chera bayad flat kard mage 1 bodi nistan data ha ?\n",
        "    # چون وقتی ۳۲ تا فیلتر روی دیتا اعمال میکنیم ،‌ درلایه بعدی بعد مون میشه ۳۲ و دیگه ۱ بعدی نیست \n",
        "    # و همینطور در لایه بعدی که ۶۴ تا فیلتر اعمال میکنیم ، ابعادمون میشه ۶۴ ....\n",
        "    # look at the output shape in below summary \n",
        "    tf.keras.layers.Flatten(),\n",
        "    #tf.keras.layers.Dense(50 , activation=\"relu\"),\n",
        "    #tf.keras.layers.Dropout(0.4),\n",
        "    tf.keras.layers.Dense(21 , activation=\"softmax\")\n",
        "])\n",
        "model.summary()"
      ]
    },
    {
      "cell_type": "code",
      "execution_count": 19,
      "metadata": {},
      "outputs": [],
      "source": [
        "model.compile(optimizer=tf.keras.optimizers.Adam(learning_rate=0.0001), \n",
        "              loss = tf.keras.losses.categorical_crossentropy , \n",
        "              metrics=\"accuracy\"\n",
        "              )"
      ]
    },
    {
      "cell_type": "code",
      "execution_count": 20,
      "metadata": {},
      "outputs": [
        {
          "name": "stdout",
          "output_type": "stream",
          "text": [
            "Epoch 1/120\n",
            "354/354 [==============================] - 5s 10ms/step - loss: 2.9864 - accuracy: 0.1024 - val_loss: 2.9693 - val_accuracy: 0.1299\n",
            "Epoch 2/120\n",
            "354/354 [==============================] - 3s 8ms/step - loss: 2.7767 - accuracy: 0.1229 - val_loss: 2.7202 - val_accuracy: 0.1780\n",
            "Epoch 3/120\n",
            "354/354 [==============================] - 3s 8ms/step - loss: 2.6396 - accuracy: 0.1758 - val_loss: 2.5691 - val_accuracy: 0.2203\n",
            "Epoch 4/120\n",
            "354/354 [==============================] - 3s 8ms/step - loss: 2.4868 - accuracy: 0.2408 - val_loss: 2.4020 - val_accuracy: 0.2627\n",
            "Epoch 5/120\n",
            "354/354 [==============================] - 3s 8ms/step - loss: 2.2935 - accuracy: 0.2973 - val_loss: 2.2088 - val_accuracy: 0.3333\n",
            "Epoch 6/120\n",
            "354/354 [==============================] - 3s 8ms/step - loss: 2.0959 - accuracy: 0.3764 - val_loss: 2.0184 - val_accuracy: 0.4096\n",
            "Epoch 7/120\n",
            "354/354 [==============================] - 3s 8ms/step - loss: 1.8945 - accuracy: 0.4435 - val_loss: 1.8443 - val_accuracy: 0.4605\n",
            "Epoch 8/120\n",
            "354/354 [==============================] - 3s 8ms/step - loss: 1.7454 - accuracy: 0.4703 - val_loss: 1.7088 - val_accuracy: 0.4972\n",
            "Epoch 9/120\n",
            "354/354 [==============================] - 3s 8ms/step - loss: 1.5883 - accuracy: 0.5212 - val_loss: 1.5493 - val_accuracy: 0.5452\n",
            "Epoch 10/120\n",
            "354/354 [==============================] - 3s 8ms/step - loss: 1.4734 - accuracy: 0.5473 - val_loss: 1.4341 - val_accuracy: 0.6017\n",
            "Epoch 11/120\n",
            "354/354 [==============================] - 3s 8ms/step - loss: 1.3432 - accuracy: 0.5939 - val_loss: 1.3276 - val_accuracy: 0.6243\n",
            "Epoch 12/120\n",
            "354/354 [==============================] - 3s 8ms/step - loss: 1.2447 - accuracy: 0.6328 - val_loss: 1.2445 - val_accuracy: 0.6328\n",
            "Epoch 13/120\n",
            "354/354 [==============================] - 3s 8ms/step - loss: 1.1653 - accuracy: 0.6419 - val_loss: 1.1611 - val_accuracy: 0.6638\n",
            "Epoch 14/120\n",
            "354/354 [==============================] - 3s 8ms/step - loss: 1.0967 - accuracy: 0.6589 - val_loss: 1.1066 - val_accuracy: 0.6667\n",
            "Epoch 15/120\n",
            "354/354 [==============================] - 3s 8ms/step - loss: 1.0310 - accuracy: 0.6921 - val_loss: 1.0600 - val_accuracy: 0.6921\n",
            "Epoch 16/120\n",
            "354/354 [==============================] - 3s 8ms/step - loss: 0.9604 - accuracy: 0.6893 - val_loss: 1.0070 - val_accuracy: 0.7006\n",
            "Epoch 17/120\n",
            "354/354 [==============================] - 3s 8ms/step - loss: 0.9246 - accuracy: 0.7182 - val_loss: 0.9601 - val_accuracy: 0.7147\n",
            "Epoch 18/120\n",
            "354/354 [==============================] - 3s 8ms/step - loss: 0.8907 - accuracy: 0.7281 - val_loss: 0.9285 - val_accuracy: 0.7232\n",
            "Epoch 19/120\n",
            "354/354 [==============================] - 3s 8ms/step - loss: 0.8308 - accuracy: 0.7422 - val_loss: 0.8846 - val_accuracy: 0.7260\n",
            "Epoch 20/120\n",
            "354/354 [==============================] - 3s 8ms/step - loss: 0.7788 - accuracy: 0.7528 - val_loss: 0.8486 - val_accuracy: 0.7486\n",
            "Epoch 21/120\n",
            "354/354 [==============================] - 3s 8ms/step - loss: 0.7539 - accuracy: 0.7486 - val_loss: 0.8272 - val_accuracy: 0.7458\n",
            "Epoch 22/120\n",
            "354/354 [==============================] - 3s 8ms/step - loss: 0.7288 - accuracy: 0.7592 - val_loss: 0.8162 - val_accuracy: 0.7429\n",
            "Epoch 23/120\n",
            "354/354 [==============================] - 3s 8ms/step - loss: 0.6933 - accuracy: 0.7790 - val_loss: 0.7877 - val_accuracy: 0.7486\n",
            "Epoch 24/120\n",
            "354/354 [==============================] - 3s 8ms/step - loss: 0.6748 - accuracy: 0.7832 - val_loss: 0.7445 - val_accuracy: 0.7571\n",
            "Epoch 25/120\n",
            "354/354 [==============================] - 3s 8ms/step - loss: 0.6517 - accuracy: 0.7931 - val_loss: 0.7212 - val_accuracy: 0.7684\n",
            "Epoch 26/120\n",
            "354/354 [==============================] - 3s 8ms/step - loss: 0.6407 - accuracy: 0.8065 - val_loss: 0.7293 - val_accuracy: 0.7684\n",
            "Epoch 27/120\n",
            "354/354 [==============================] - 3s 8ms/step - loss: 0.6049 - accuracy: 0.8114 - val_loss: 0.6795 - val_accuracy: 0.7853\n",
            "Epoch 28/120\n",
            "354/354 [==============================] - 3s 8ms/step - loss: 0.5862 - accuracy: 0.8114 - val_loss: 0.6750 - val_accuracy: 0.7797\n",
            "Epoch 29/120\n",
            "354/354 [==============================] - 3s 8ms/step - loss: 0.5604 - accuracy: 0.8326 - val_loss: 0.6841 - val_accuracy: 0.7910\n",
            "Epoch 30/120\n",
            "354/354 [==============================] - 3s 8ms/step - loss: 0.5521 - accuracy: 0.8256 - val_loss: 0.6533 - val_accuracy: 0.7853\n",
            "Epoch 31/120\n",
            "354/354 [==============================] - 3s 8ms/step - loss: 0.5375 - accuracy: 0.8333 - val_loss: 0.6472 - val_accuracy: 0.7910\n",
            "Epoch 32/120\n",
            "354/354 [==============================] - 3s 8ms/step - loss: 0.5114 - accuracy: 0.8390 - val_loss: 0.6525 - val_accuracy: 0.7966\n",
            "Epoch 33/120\n",
            "354/354 [==============================] - 3s 8ms/step - loss: 0.5056 - accuracy: 0.8305 - val_loss: 0.6233 - val_accuracy: 0.8023\n",
            "Epoch 34/120\n",
            "354/354 [==============================] - 3s 8ms/step - loss: 0.4877 - accuracy: 0.8566 - val_loss: 0.6162 - val_accuracy: 0.8249\n",
            "Epoch 35/120\n",
            "354/354 [==============================] - 3s 8ms/step - loss: 0.4498 - accuracy: 0.8722 - val_loss: 0.6023 - val_accuracy: 0.8164\n",
            "Epoch 36/120\n",
            "354/354 [==============================] - 3s 8ms/step - loss: 0.4600 - accuracy: 0.8602 - val_loss: 0.6062 - val_accuracy: 0.8305\n",
            "Epoch 37/120\n",
            "354/354 [==============================] - 3s 8ms/step - loss: 0.4508 - accuracy: 0.8701 - val_loss: 0.5722 - val_accuracy: 0.8305\n",
            "Epoch 38/120\n",
            "354/354 [==============================] - 3s 8ms/step - loss: 0.4354 - accuracy: 0.8729 - val_loss: 0.5653 - val_accuracy: 0.8277\n",
            "Epoch 39/120\n",
            "354/354 [==============================] - 3s 9ms/step - loss: 0.4321 - accuracy: 0.8651 - val_loss: 0.5459 - val_accuracy: 0.8531\n",
            "Epoch 40/120\n",
            "354/354 [==============================] - 3s 9ms/step - loss: 0.4137 - accuracy: 0.8814 - val_loss: 0.5651 - val_accuracy: 0.8277\n",
            "Epoch 41/120\n",
            "354/354 [==============================] - 3s 9ms/step - loss: 0.4060 - accuracy: 0.8828 - val_loss: 0.5380 - val_accuracy: 0.8418\n",
            "Epoch 42/120\n",
            "354/354 [==============================] - 3s 8ms/step - loss: 0.3874 - accuracy: 0.8856 - val_loss: 0.5407 - val_accuracy: 0.8390\n",
            "Epoch 43/120\n",
            "354/354 [==============================] - 3s 8ms/step - loss: 0.3769 - accuracy: 0.8884 - val_loss: 0.5236 - val_accuracy: 0.8531\n",
            "Epoch 44/120\n",
            "354/354 [==============================] - 3s 8ms/step - loss: 0.3544 - accuracy: 0.8969 - val_loss: 0.5163 - val_accuracy: 0.8503\n",
            "Epoch 45/120\n",
            "354/354 [==============================] - 3s 8ms/step - loss: 0.3538 - accuracy: 0.8927 - val_loss: 0.5206 - val_accuracy: 0.8531\n",
            "Epoch 46/120\n",
            "354/354 [==============================] - 3s 8ms/step - loss: 0.3335 - accuracy: 0.9032 - val_loss: 0.5219 - val_accuracy: 0.8531\n",
            "Epoch 47/120\n",
            "354/354 [==============================] - 3s 9ms/step - loss: 0.3308 - accuracy: 0.9032 - val_loss: 0.5303 - val_accuracy: 0.8559\n",
            "Epoch 48/120\n",
            "354/354 [==============================] - 3s 8ms/step - loss: 0.3286 - accuracy: 0.8997 - val_loss: 0.4771 - val_accuracy: 0.8729\n",
            "Epoch 49/120\n",
            "354/354 [==============================] - 3s 9ms/step - loss: 0.3163 - accuracy: 0.9068 - val_loss: 0.4929 - val_accuracy: 0.8757\n",
            "Epoch 50/120\n",
            "354/354 [==============================] - 3s 9ms/step - loss: 0.3216 - accuracy: 0.9032 - val_loss: 0.4694 - val_accuracy: 0.8644\n",
            "Epoch 51/120\n",
            "354/354 [==============================] - 3s 9ms/step - loss: 0.2891 - accuracy: 0.9266 - val_loss: 0.4840 - val_accuracy: 0.8559\n",
            "Epoch 52/120\n",
            "354/354 [==============================] - 3s 9ms/step - loss: 0.3051 - accuracy: 0.9061 - val_loss: 0.4673 - val_accuracy: 0.8644\n",
            "Epoch 53/120\n",
            "354/354 [==============================] - 3s 8ms/step - loss: 0.2920 - accuracy: 0.9089 - val_loss: 0.4641 - val_accuracy: 0.8729\n",
            "Epoch 54/120\n",
            "354/354 [==============================] - 3s 8ms/step - loss: 0.2938 - accuracy: 0.9131 - val_loss: 0.4425 - val_accuracy: 0.8701\n",
            "Epoch 55/120\n",
            "354/354 [==============================] - 3s 9ms/step - loss: 0.2828 - accuracy: 0.9153 - val_loss: 0.4581 - val_accuracy: 0.8616\n",
            "Epoch 56/120\n",
            "354/354 [==============================] - 3s 9ms/step - loss: 0.2647 - accuracy: 0.9244 - val_loss: 0.4442 - val_accuracy: 0.8729\n",
            "Epoch 57/120\n",
            "354/354 [==============================] - 3s 9ms/step - loss: 0.2585 - accuracy: 0.9230 - val_loss: 0.4466 - val_accuracy: 0.8644\n",
            "Epoch 58/120\n",
            "354/354 [==============================] - 3s 8ms/step - loss: 0.2597 - accuracy: 0.9251 - val_loss: 0.4483 - val_accuracy: 0.8729\n",
            "Epoch 59/120\n",
            "354/354 [==============================] - 3s 9ms/step - loss: 0.2665 - accuracy: 0.9223 - val_loss: 0.4748 - val_accuracy: 0.8559\n",
            "Epoch 60/120\n",
            "354/354 [==============================] - 3s 9ms/step - loss: 0.2510 - accuracy: 0.9273 - val_loss: 0.4380 - val_accuracy: 0.8644\n",
            "Epoch 61/120\n",
            "354/354 [==============================] - 3s 9ms/step - loss: 0.2402 - accuracy: 0.9287 - val_loss: 0.4132 - val_accuracy: 0.8814\n",
            "Epoch 62/120\n",
            "354/354 [==============================] - 3s 9ms/step - loss: 0.2470 - accuracy: 0.9223 - val_loss: 0.4504 - val_accuracy: 0.8701\n",
            "Epoch 63/120\n",
            "354/354 [==============================] - 3s 8ms/step - loss: 0.2384 - accuracy: 0.9287 - val_loss: 0.4663 - val_accuracy: 0.8616\n",
            "Epoch 64/120\n",
            "354/354 [==============================] - 3s 8ms/step - loss: 0.2298 - accuracy: 0.9280 - val_loss: 0.4561 - val_accuracy: 0.8588\n",
            "Epoch 65/120\n",
            "354/354 [==============================] - 3s 8ms/step - loss: 0.2223 - accuracy: 0.9322 - val_loss: 0.4219 - val_accuracy: 0.8757\n",
            "Epoch 66/120\n",
            "354/354 [==============================] - 3s 8ms/step - loss: 0.2214 - accuracy: 0.9343 - val_loss: 0.4252 - val_accuracy: 0.8729\n",
            "Epoch 67/120\n",
            "354/354 [==============================] - 3s 8ms/step - loss: 0.2084 - accuracy: 0.9414 - val_loss: 0.4372 - val_accuracy: 0.8757\n",
            "Epoch 68/120\n",
            "354/354 [==============================] - 3s 8ms/step - loss: 0.2133 - accuracy: 0.9400 - val_loss: 0.4171 - val_accuracy: 0.8785\n",
            "Epoch 69/120\n",
            "354/354 [==============================] - 3s 9ms/step - loss: 0.2088 - accuracy: 0.9371 - val_loss: 0.4415 - val_accuracy: 0.8644\n",
            "Epoch 70/120\n",
            "354/354 [==============================] - 3s 9ms/step - loss: 0.1988 - accuracy: 0.9477 - val_loss: 0.4272 - val_accuracy: 0.8785\n",
            "Epoch 71/120\n",
            "354/354 [==============================] - 3s 8ms/step - loss: 0.1987 - accuracy: 0.9371 - val_loss: 0.4180 - val_accuracy: 0.8870\n",
            "Epoch 72/120\n",
            "354/354 [==============================] - 3s 8ms/step - loss: 0.1984 - accuracy: 0.9442 - val_loss: 0.4244 - val_accuracy: 0.8757\n",
            "Epoch 73/120\n",
            "354/354 [==============================] - 3s 8ms/step - loss: 0.1945 - accuracy: 0.9393 - val_loss: 0.4063 - val_accuracy: 0.8955\n",
            "Epoch 74/120\n",
            "354/354 [==============================] - 3s 9ms/step - loss: 0.1881 - accuracy: 0.9435 - val_loss: 0.4373 - val_accuracy: 0.8644\n",
            "Epoch 75/120\n",
            "354/354 [==============================] - 3s 9ms/step - loss: 0.1827 - accuracy: 0.9463 - val_loss: 0.4140 - val_accuracy: 0.8757\n",
            "Epoch 76/120\n",
            "354/354 [==============================] - 3s 9ms/step - loss: 0.1786 - accuracy: 0.9499 - val_loss: 0.4014 - val_accuracy: 0.8927\n",
            "Epoch 77/120\n",
            "354/354 [==============================] - 3s 9ms/step - loss: 0.1803 - accuracy: 0.9562 - val_loss: 0.4304 - val_accuracy: 0.8729\n",
            "Epoch 78/120\n",
            "354/354 [==============================] - 3s 9ms/step - loss: 0.1828 - accuracy: 0.9456 - val_loss: 0.4033 - val_accuracy: 0.8814\n",
            "Epoch 79/120\n",
            "354/354 [==============================] - 3s 8ms/step - loss: 0.1750 - accuracy: 0.9477 - val_loss: 0.3962 - val_accuracy: 0.8898\n",
            "Epoch 80/120\n",
            "354/354 [==============================] - 3s 8ms/step - loss: 0.1602 - accuracy: 0.9576 - val_loss: 0.4205 - val_accuracy: 0.8672\n",
            "Epoch 81/120\n",
            "354/354 [==============================] - 3s 9ms/step - loss: 0.1630 - accuracy: 0.9541 - val_loss: 0.3835 - val_accuracy: 0.8927\n",
            "Epoch 82/120\n",
            "354/354 [==============================] - 3s 9ms/step - loss: 0.1586 - accuracy: 0.9569 - val_loss: 0.4345 - val_accuracy: 0.8757\n",
            "Epoch 83/120\n",
            "354/354 [==============================] - 3s 9ms/step - loss: 0.1623 - accuracy: 0.9555 - val_loss: 0.3989 - val_accuracy: 0.8898\n",
            "Epoch 84/120\n",
            "354/354 [==============================] - 3s 8ms/step - loss: 0.1566 - accuracy: 0.9605 - val_loss: 0.4038 - val_accuracy: 0.8898\n",
            "Epoch 85/120\n",
            "354/354 [==============================] - 3s 9ms/step - loss: 0.1495 - accuracy: 0.9548 - val_loss: 0.4283 - val_accuracy: 0.8729\n",
            "Epoch 86/120\n",
            "354/354 [==============================] - 3s 9ms/step - loss: 0.1423 - accuracy: 0.9590 - val_loss: 0.3822 - val_accuracy: 0.9011\n",
            "Epoch 87/120\n",
            "354/354 [==============================] - 3s 9ms/step - loss: 0.1363 - accuracy: 0.9612 - val_loss: 0.3900 - val_accuracy: 0.8927\n",
            "Epoch 88/120\n",
            "354/354 [==============================] - 3s 8ms/step - loss: 0.1513 - accuracy: 0.9605 - val_loss: 0.3921 - val_accuracy: 0.8898\n",
            "Epoch 89/120\n",
            "354/354 [==============================] - 3s 8ms/step - loss: 0.1523 - accuracy: 0.9555 - val_loss: 0.4301 - val_accuracy: 0.8701\n",
            "Epoch 90/120\n",
            "354/354 [==============================] - 3s 9ms/step - loss: 0.1368 - accuracy: 0.9569 - val_loss: 0.3903 - val_accuracy: 0.8927\n",
            "Epoch 91/120\n",
            "354/354 [==============================] - 3s 8ms/step - loss: 0.1298 - accuracy: 0.9654 - val_loss: 0.4006 - val_accuracy: 0.8983\n",
            "Epoch 92/120\n",
            "354/354 [==============================] - 3s 9ms/step - loss: 0.1296 - accuracy: 0.9647 - val_loss: 0.4034 - val_accuracy: 0.8898\n",
            "Epoch 93/120\n",
            "354/354 [==============================] - 3s 8ms/step - loss: 0.1212 - accuracy: 0.9661 - val_loss: 0.3835 - val_accuracy: 0.8955\n",
            "Epoch 94/120\n",
            "354/354 [==============================] - 3s 9ms/step - loss: 0.1331 - accuracy: 0.9633 - val_loss: 0.3869 - val_accuracy: 0.8870\n",
            "Epoch 95/120\n",
            "354/354 [==============================] - 3s 9ms/step - loss: 0.1359 - accuracy: 0.9590 - val_loss: 0.3679 - val_accuracy: 0.8870\n",
            "Epoch 96/120\n",
            "354/354 [==============================] - 3s 9ms/step - loss: 0.1205 - accuracy: 0.9696 - val_loss: 0.4271 - val_accuracy: 0.8729\n",
            "Epoch 97/120\n",
            "354/354 [==============================] - 3s 9ms/step - loss: 0.1186 - accuracy: 0.9654 - val_loss: 0.4100 - val_accuracy: 0.8814\n",
            "Epoch 98/120\n",
            "354/354 [==============================] - 3s 9ms/step - loss: 0.1280 - accuracy: 0.9619 - val_loss: 0.3809 - val_accuracy: 0.8870\n",
            "Epoch 99/120\n",
            "354/354 [==============================] - 3s 9ms/step - loss: 0.1124 - accuracy: 0.9732 - val_loss: 0.3985 - val_accuracy: 0.8870\n",
            "Epoch 100/120\n",
            "354/354 [==============================] - 3s 9ms/step - loss: 0.1141 - accuracy: 0.9675 - val_loss: 0.3827 - val_accuracy: 0.8842\n",
            "Epoch 101/120\n",
            "354/354 [==============================] - 3s 9ms/step - loss: 0.1136 - accuracy: 0.9746 - val_loss: 0.3878 - val_accuracy: 0.8842\n",
            "Epoch 102/120\n",
            "354/354 [==============================] - 3s 9ms/step - loss: 0.1114 - accuracy: 0.9696 - val_loss: 0.4117 - val_accuracy: 0.8870\n",
            "Epoch 103/120\n",
            "354/354 [==============================] - 3s 9ms/step - loss: 0.1107 - accuracy: 0.9725 - val_loss: 0.3893 - val_accuracy: 0.8898\n",
            "Epoch 104/120\n",
            "354/354 [==============================] - 3s 9ms/step - loss: 0.1201 - accuracy: 0.9675 - val_loss: 0.3895 - val_accuracy: 0.9068\n",
            "Epoch 105/120\n",
            "354/354 [==============================] - 3s 8ms/step - loss: 0.1080 - accuracy: 0.9746 - val_loss: 0.3714 - val_accuracy: 0.8898\n",
            "Epoch 106/120\n",
            "354/354 [==============================] - 3s 9ms/step - loss: 0.1139 - accuracy: 0.9689 - val_loss: 0.4107 - val_accuracy: 0.8927\n",
            "Epoch 107/120\n",
            "354/354 [==============================] - 3s 9ms/step - loss: 0.1047 - accuracy: 0.9696 - val_loss: 0.3890 - val_accuracy: 0.8870\n",
            "Epoch 108/120\n",
            "354/354 [==============================] - 3s 9ms/step - loss: 0.1126 - accuracy: 0.9640 - val_loss: 0.4249 - val_accuracy: 0.8814\n",
            "Epoch 109/120\n",
            "354/354 [==============================] - 3s 9ms/step - loss: 0.1068 - accuracy: 0.9661 - val_loss: 0.4371 - val_accuracy: 0.8814\n",
            "Epoch 110/120\n",
            "354/354 [==============================] - 3s 9ms/step - loss: 0.1010 - accuracy: 0.9732 - val_loss: 0.3787 - val_accuracy: 0.8983\n",
            "Epoch 111/120\n",
            "354/354 [==============================] - 3s 9ms/step - loss: 0.0941 - accuracy: 0.9746 - val_loss: 0.3958 - val_accuracy: 0.8983\n",
            "Epoch 112/120\n",
            "354/354 [==============================] - 3s 9ms/step - loss: 0.1046 - accuracy: 0.9725 - val_loss: 0.3979 - val_accuracy: 0.8955\n",
            "Epoch 113/120\n",
            "354/354 [==============================] - 3s 9ms/step - loss: 0.0960 - accuracy: 0.9746 - val_loss: 0.3794 - val_accuracy: 0.8983\n",
            "Epoch 114/120\n",
            "354/354 [==============================] - 3s 9ms/step - loss: 0.0937 - accuracy: 0.9767 - val_loss: 0.3881 - val_accuracy: 0.8898\n",
            "Epoch 115/120\n",
            "354/354 [==============================] - 3s 9ms/step - loss: 0.0894 - accuracy: 0.9760 - val_loss: 0.3822 - val_accuracy: 0.8955\n",
            "Epoch 116/120\n",
            "354/354 [==============================] - 3s 9ms/step - loss: 0.0895 - accuracy: 0.9767 - val_loss: 0.3891 - val_accuracy: 0.9011\n",
            "Epoch 117/120\n",
            "354/354 [==============================] - 3s 9ms/step - loss: 0.0917 - accuracy: 0.9753 - val_loss: 0.3750 - val_accuracy: 0.8842\n",
            "Epoch 118/120\n",
            "354/354 [==============================] - 3s 9ms/step - loss: 0.0840 - accuracy: 0.9809 - val_loss: 0.3983 - val_accuracy: 0.8955\n",
            "Epoch 119/120\n",
            "354/354 [==============================] - 3s 9ms/step - loss: 0.0776 - accuracy: 0.9838 - val_loss: 0.4100 - val_accuracy: 0.8870\n",
            "Epoch 120/120\n",
            "354/354 [==============================] - 3s 9ms/step - loss: 0.0968 - accuracy: 0.9718 - val_loss: 0.3895 - val_accuracy: 0.8983\n"
          ]
        }
      ],
      "source": [
        "history = model.fit( train_data , validation_data=validation_data , epochs=120)"
      ]
    },
    {
      "cell_type": "code",
      "execution_count": 21,
      "metadata": {},
      "outputs": [
        {
          "data": {
            "image/png": "[encoded data removed]",
            "text/plain": [
              "<Figure size 640x480 with 1 Axes>"
            ]
          },
          "metadata": {},
          "output_type": "display_data"
        }
      ],
      "source": [
        "plt.plot(history.history[\"val_accuracy\"])\n",
        "plt.show()"
      ]
    },
    {
      "cell_type": "code",
      "execution_count": 22,
      "metadata": {},
      "outputs": [],
      "source": [
        "model.save('audio_classification_model.h5')"
      ]
    },
    {
      "cell_type": "markdown",
      "metadata": {},
      "source": [
        "## predict data"
      ]
    },
    {
      "cell_type": "code",
      "execution_count": null,
      "metadata": {},
      "outputs": [],
      "source": [
        "test_data = tf.keras.utils.audio_dataset_from_directory(\n",
        "    \"./test/\",\n",
        "    shuffle=False,\n",
        "    batch_size=4,\n",
        "    output_sequence_length= 48000,\n",
        "    ragged= False, \n",
        "    labels=\"inferred\",\n",
        "    label_mode=\"categorical\",\n",
        "    sampling_rate= None,\n",
        "    seed=59\n",
        ")"
      ]
    },
    {
      "cell_type": "code",
      "execution_count": null,
      "metadata": {},
      "outputs": [
        {
          "data": {
            "text/plain": [
              "array(['abdollah', 'azra', 'davood', 'javad', 'khadijeh', 'kiana',\n",
              "       'maryam', 'matin', 'melika', 'mohammad', 'mohammad_parvari',\n",
              "       'mona', 'nahid', 'nima', 'omid', 'parisa', 'parsa', 'sadegh',\n",
              "       'sajedeh', 'shima', 'tara'], dtype='<U16')"
            ]
          },
          "execution_count": 7,
          "metadata": {},
          "output_type": "execute_result"
        }
      ],
      "source": [
        "classes_labels = np.array(train_data.class_names)\n",
        "classes_labels"
      ]
    },
    {
      "cell_type": "code",
      "execution_count": null,
      "metadata": {},
      "outputs": [
        {
          "name": "stdout",
          "output_type": "stream",
          "text": [
            "1/1 [==============================] - 0s 149ms/step\n",
            "Predictions:\n",
            " [[0 0 0 0 0 1 0 0 0 0 0 0 0 0 0 0 0 0 0 0 0]]\n"
          ]
        }
      ],
      "source": [
        "model = tf.keras.models.load_model('audio_classification_model.h5')\n",
        "predictions = model.predict(test_data)\n",
        "predictions = tf.where(predictions > 0.8,1,0) # اینجا میایم و اون کلاسی که احتمالش از ۰.۸ بیشتره رو ۱ میاریم و بقیه رو صفر \n",
        "print('Predictions:\\n', predictions.numpy())"
      ]
    },
    {
      "cell_type": "code",
      "execution_count": null,
      "metadata": {},
      "outputs": [
        {
          "name": "stdout",
          "output_type": "stream",
          "text": [
            "The owner of tested audio is : kiana\n",
            "Accuracy: 1\n"
          ]
        }
      ],
      "source": [
        "for i,voice in enumerate(predictions):\n",
        "    \n",
        "    probability = predictions[i]\n",
        "    predicted_class_index = np.argmax(probability)\n",
        "\n",
        "    predicted_class = classes_labels[predicted_class_index]\n",
        "    accuracy = probability[predicted_class_index]\n",
        "    print(f'The owner of tested audio is : {predicted_class}')\n",
        "    print(f'Accuracy: {accuracy}')\n"
      ]
    },
    {
      "cell_type": "markdown",
      "metadata": {},
      "source": []
    },
    {
      "cell_type": "markdown",
      "metadata": {},
      "source": [
        "## explanation of occurred errors :\n",
        "\n",
        "### 1st error :   \n",
        "ValueError: Shapes (None, 21) and (None, 64) are incompatible <br/>\n",
        "عدد ۲۱ تعداد افراد یا کلاس هاست ، ولی تعداد نرون های لایه آخر رو ۶۴ گذاشتیم <br/>\n",
        "\n",
        "\n",
        "### 2nd error : \n",
        "InvalidArgumentError: Graph execution error: Header mismatch: Expected RIFF but found ID3  <br/>\n",
        "این خطا به دلیل این است که در هنگام ساخت دیتاست فرمت ویو رو براش تعیین نکردیم در خط آخر \n",
        "chunk.export(os.path.join(\"dataset\" , person_name , f\"voice_{i}.wav\" ))\n",
        "<br/>\n",
        "solution : <br/>\n",
        "chunk.export(os.path.join(\"dataset\" , person_name , f\"voice_{i}.wav\" ) , format=\"wav\")\n",
        "<br/>\n",
        "\n",
        "### 3rd-errror : \n",
        "converting 32 bit wav file data into 16 bit :\n",
        "audio = audio.set_sample_width(2) \n",
        "yani har sample toolesh 2 byte ya 16 bit beshe \n",
        "<br/>\n",
        "\n",
        "### 4th error : \n",
        "صدای ۲ کاناله یا استریو بودن وویس باعث ایجاد این اررو می شود  <br/>\n",
        "به خاطر چند بعدی بودن فایل صدا یا استریو بودن  \n",
        "input must be (48000,1) , but some data are (48000, 2) !  <br/>\n",
        "it's bc of sample rate . <br/>\n",
        "گفتیم که هر دیتا یک ثانیه است . اما توی همین یک ثانیه ۴۸۰۰۰ تا دیتا با فرکانس های مختلف وجود داره . <br/>\n",
        "48000 number of data are in 1 second of an audio\n",
        "\n",
        "+ final codes that added into make_dataset last cell (in class case): <br/>\n",
        "audio = audio.set_sample_width(2)   \n",
        "audio = audio.set_frame_rate(48000)  # its like resizing but with that same channels <br/>\n",
        "audio = audio.set_channels(1) \n",
        "\n",
        "\n",
        "### 5th error :\n",
        "now we should update or delete all files in *dataset folder* , and create them again . \n",
        "\n",
        "\n"
      ]
    },
    {
      "cell_type": "markdown",
      "metadata": {},
      "source": [
        "models for audio task :M3 , M5 , M11 , M18"
      ]
    }
  ],
  "metadata": {
    "colab": {
      "provenance": []
    },
    "kernelspec": {
      "display_name": "Python 3",
      "name": "python3"
    },
    "language_info": {
      "codemirror_mode": {
        "name": "ipython",
        "version": 3
      },
      "file_extension": ".py",
      "mimetype": "text/x-python",
      "name": "python",
      "nbconvert_exporter": "python",
      "pygments_lexer": "ipython3",
      "version": "3.10.1"
    }
  },
  "nbformat": 4,
  "nbformat_minor": 0
}
