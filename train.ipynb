{
  "cells": [
    {
      "cell_type": "code",
      "execution_count": 139,
      "metadata": {
        "id": "2dZDsn80rCaH"
      },
      "outputs": [],
      "source": [
        "import os\n",
        "import tensorflow as tf\n",
        "import numpy as np\n",
        "import pydub"
      ]
    },
    {
      "cell_type": "markdown",
      "metadata": {
        "id": "jpDPQ1d8rbBt"
      },
      "source": [
        "# load dataset in tesorflow format :"
      ]
    },
    {
      "cell_type": "code",
      "execution_count": 84,
      "metadata": {
        "id": "I7xg1EW6rfsa"
      },
      "outputs": [
        {
          "name": "stdout",
          "output_type": "stream",
          "text": [
            "Found 1770 files belonging to 21 classes.\n",
            "Using 1416 files for training.\n",
            "Found 1770 files belonging to 21 classes.\n",
            "Using 354 files for validation.\n"
          ]
        }
      ],
      "source": [
        "dataset_path = \"./dataset/\"\n",
        "\n",
        "train_data = tf.keras.utils.audio_dataset_from_directory(\n",
        "    dataset_path,\n",
        "    batch_size=4,\n",
        "    shuffle=True,\n",
        "    validation_split=0.2,\n",
        "    subset=\"training\",\n",
        "\n",
        "    # new parameter for AUDIO task\n",
        "    #طول هرکدوم از دیتاهای صوت مون باید ۴۸هزار باشه ، اما در بخش قبل گفتیم یک ثانیه ای باشند هرکدوم\n",
        "    output_sequence_length= 48000,\n",
        "\n",
        "    # دیتاهای ورودی به شبکه طول های متفاوت داشته باشند یا خیر \n",
        "    # ragged means data with different length, so we consider it false\n",
        "    ragged= False, \n",
        "\n",
        "    # inferred value, generate labels from the directory structure it self automatically.\n",
        "    # refers to 'audio_dataset_from_directory' in tensorflow.org\n",
        "    labels=\"inferred\",\n",
        "    \n",
        "    label_mode=\"categorical\",\n",
        "\n",
        "    # it will raise << tensorflow_io.so >> error , therefore we dont consider it None\n",
        "    # we will determine sample rate in 'make_dataset' part, and handle it with pydub\n",
        "    sampling_rate= None,\n",
        "    seed=59\n",
        ")\n",
        "\n",
        "\n",
        "validation_data = tf.keras.utils.audio_dataset_from_directory(\n",
        "    dataset_path,\n",
        "    batch_size=4,\n",
        "    shuffle=True,\n",
        "    validation_split=0.2,\n",
        "    subset=\"validation\",\n",
        "\n",
        "    # new parameter for AUDIO task\n",
        "    output_sequence_length= 48000,\n",
        "    ragged= False, \n",
        "    labels=\"inferred\",\n",
        "    label_mode=\"categorical\",\n",
        "    sampling_rate= None,\n",
        "    seed=59\n",
        ")\n"
      ]
    },
    {
      "cell_type": "markdown",
      "metadata": {},
      "source": [
        "seed : <br/>\n",
        "اگر پارامتر سییید رو تعریف نکنیم ارور میده <br/>\n",
        "error : ValueError: If using **`validation_split`** and **shuffling** the data, you must provide a `seed` argument, to make sure that there is no overlap between the training and validation subset.\n",
        "<br/>\n",
        "علت : <br/>\n",
        "تا وقتی میخواد ۰.۲ از دیتا هارو بده به ولیدیشن  ، و ۰.۸ هم برای ترین \n",
        "اتفاقی یک دیتا هم توی ولیدیشن و هم توی قسمت ترین نره \n",
        "و یا یک دیتا نه توی ترین و نه توی ولیدیشن نباشه \n",
        "چون بصورت رندوم دارن انتخاب میشن ممکنه این اشکال پیش بیاد\n",
        "با تعریف سیید ،‌ میگیم که انتخاب داده ها برای پارت های ترین و ولیدیشن کنترل شده میشه و دیگه دیتاها همپوشانی ندارند ."
      ]
    },
    {
      "cell_type": "markdown",
      "metadata": {},
      "source": [
        "# Creating model :"
      ]
    },
    {
      "cell_type": "code",
      "execution_count": 73,
      "metadata": {},
      "outputs": [
        {
          "name": "stdout",
          "output_type": "stream",
          "text": [
            "Model: \"sequential_16\"\n",
            "_________________________________________________________________\n",
            " Layer (type)                Output Shape              Param #   \n",
            "=================================================================\n",
            " conv1d_70 (Conv1D)          (None, 2996, 32)          2592      \n",
            "                                                                 \n",
            " max_pooling1d_70 (MaxPoolin  (None, 749, 32)          0         \n",
            " g1D)                                                            \n",
            "                                                                 \n",
            " conv1d_71 (Conv1D)          (None, 747, 32)           3104      \n",
            "                                                                 \n",
            " max_pooling1d_71 (MaxPoolin  (None, 186, 32)          0         \n",
            " g1D)                                                            \n",
            "                                                                 \n",
            " conv1d_72 (Conv1D)          (None, 184, 64)           6208      \n",
            "                                                                 \n",
            " max_pooling1d_72 (MaxPoolin  (None, 46, 64)           0         \n",
            " g1D)                                                            \n",
            "                                                                 \n",
            " conv1d_73 (Conv1D)          (None, 44, 64)            12352     \n",
            "                                                                 \n",
            " max_pooling1d_73 (MaxPoolin  (None, 11, 64)           0         \n",
            " g1D)                                                            \n",
            "                                                                 \n",
            " flatten_19 (Flatten)        (None, 704)               0         \n",
            "                                                                 \n",
            " dense_26 (Dense)            (None, 21)                14805     \n",
            "                                                                 \n",
            "=================================================================\n",
            "Total params: 39,061\n",
            "Trainable params: 39,061\n",
            "Non-trainable params: 0\n",
            "_________________________________________________________________\n"
          ]
        }
      ],
      "source": [
        "model = tf.keras.models.Sequential([\n",
        "    tf.keras.layers.Conv1D(32 , kernel_size=80 , strides=16  , activation=\"relu\" , input_shape=(48000 , 1) ),\n",
        "    tf.keras.layers.MaxPooling1D(4),\n",
        "    tf.keras.layers.Conv1D(32 , kernel_size=3 , activation=\"relu\"),\n",
        "    tf.keras.layers.MaxPooling1D(4),\n",
        "    tf.keras.layers.Conv1D(64 , kernel_size=3 , activation=\"relu\"),\n",
        "    tf.keras.layers.MaxPooling1D(4),\n",
        "    tf.keras.layers.Conv1D(64 , kernel_size=3 , activation=\"relu\"),\n",
        "    tf.keras.layers.MaxPooling1D(4),\n",
        "\n",
        "    # chera bayad flat kard mage 1 bodi nistan data ha ?\n",
        "    # چون وقتی ۳۲ تا فیلتر روی دیتا اعمال میکنیم ،‌ درلایه بعدی بعد مون میشه ۳۲ و دیگه ۱ بعدی نیست \n",
        "    # و همینطور در لایه بعدی که ۶۴ تا فیلتر اعمال میکنیم ، ابعادمون میشه ۶۴ ....\n",
        "    # look at the output shape in below summary \n",
        "    tf.keras.layers.Flatten(),\n",
        "    #tf.keras.layers.Dense(50 , activation=\"relu\"),\n",
        "    #tf.keras.layers.Dropout(0.4),\n",
        "    tf.keras.layers.Dense(21 , activation=\"softmax\")\n",
        "])\n",
        "model.summary()"
      ]
    },
    {
      "cell_type": "code",
      "execution_count": 74,
      "metadata": {},
      "outputs": [],
      "source": [
        "model.compile(optimizer=tf.keras.optimizers.Adam(), \n",
        "              loss = tf.keras.losses.categorical_crossentropy , \n",
        "              metrics=\"accuracy\"\n",
        "              )"
      ]
    },
    {
      "cell_type": "code",
      "execution_count": 75,
      "metadata": {},
      "outputs": [
        {
          "name": "stdout",
          "output_type": "stream",
          "text": [
            "Epoch 1/50\n"
          ]
        },
        {
          "name": "stdout",
          "output_type": "stream",
          "text": [
            "354/354 [==============================] - 5s 12ms/step - loss: 2.3272 - accuracy: 0.2592 - val_loss: 1.4377 - val_accuracy: 0.5678\n",
            "Epoch 2/50\n",
            "354/354 [==============================] - 4s 10ms/step - loss: 1.0584 - accuracy: 0.6575 - val_loss: 0.9747 - val_accuracy: 0.6836\n",
            "Epoch 3/50\n",
            "354/354 [==============================] - 4s 11ms/step - loss: 0.7236 - accuracy: 0.7747 - val_loss: 0.8551 - val_accuracy: 0.7316\n",
            "Epoch 4/50\n",
            "354/354 [==============================] - 4s 12ms/step - loss: 0.5365 - accuracy: 0.8333 - val_loss: 0.7339 - val_accuracy: 0.7571\n",
            "Epoch 5/50\n",
            "354/354 [==============================] - 4s 11ms/step - loss: 0.3912 - accuracy: 0.8828 - val_loss: 0.7185 - val_accuracy: 0.7910\n",
            "Epoch 6/50\n",
            "354/354 [==============================] - 4s 11ms/step - loss: 0.3304 - accuracy: 0.8976 - val_loss: 0.7244 - val_accuracy: 0.7910\n",
            "Epoch 7/50\n",
            "354/354 [==============================] - 4s 10ms/step - loss: 0.2559 - accuracy: 0.9195 - val_loss: 0.5790 - val_accuracy: 0.8277\n",
            "Epoch 8/50\n",
            "354/354 [==============================] - 4s 10ms/step - loss: 0.2220 - accuracy: 0.9301 - val_loss: 0.5061 - val_accuracy: 0.8559\n",
            "Epoch 9/50\n",
            "354/354 [==============================] - 4s 12ms/step - loss: 0.2798 - accuracy: 0.9138 - val_loss: 0.6090 - val_accuracy: 0.8362\n",
            "Epoch 10/50\n",
            "354/354 [==============================] - 4s 11ms/step - loss: 0.3111 - accuracy: 0.9124 - val_loss: 0.6634 - val_accuracy: 0.7881\n",
            "Epoch 11/50\n",
            "354/354 [==============================] - 6s 17ms/step - loss: 0.1328 - accuracy: 0.9626 - val_loss: 0.7589 - val_accuracy: 0.8051\n",
            "Epoch 12/50\n",
            "354/354 [==============================] - 7s 20ms/step - loss: 0.1126 - accuracy: 0.9654 - val_loss: 0.4720 - val_accuracy: 0.8757\n",
            "Epoch 13/50\n",
            "354/354 [==============================] - 5s 15ms/step - loss: 0.1584 - accuracy: 0.9506 - val_loss: 0.7006 - val_accuracy: 0.8164\n",
            "Epoch 14/50\n",
            "354/354 [==============================] - 4s 12ms/step - loss: 0.0953 - accuracy: 0.9675 - val_loss: 0.4067 - val_accuracy: 0.8955\n",
            "Epoch 15/50\n",
            "354/354 [==============================] - 4s 12ms/step - loss: 0.0803 - accuracy: 0.9753 - val_loss: 0.8208 - val_accuracy: 0.8023\n",
            "Epoch 16/50\n",
            "354/354 [==============================] - 4s 13ms/step - loss: 0.1978 - accuracy: 0.9470 - val_loss: 0.6841 - val_accuracy: 0.8136\n",
            "Epoch 17/50\n",
            "354/354 [==============================] - 5s 13ms/step - loss: 0.1875 - accuracy: 0.9492 - val_loss: 0.4373 - val_accuracy: 0.8927\n",
            "Epoch 18/50\n",
            "354/354 [==============================] - 4s 12ms/step - loss: 0.0831 - accuracy: 0.9760 - val_loss: 0.4084 - val_accuracy: 0.8927\n",
            "Epoch 19/50\n",
            "354/354 [==============================] - 5s 13ms/step - loss: 0.0341 - accuracy: 0.9951 - val_loss: 0.4069 - val_accuracy: 0.8955\n",
            "Epoch 20/50\n",
            "354/354 [==============================] - 5s 13ms/step - loss: 0.0270 - accuracy: 0.9944 - val_loss: 0.4178 - val_accuracy: 0.8983\n",
            "Epoch 21/50\n",
            "354/354 [==============================] - 4s 12ms/step - loss: 0.0237 - accuracy: 0.9936 - val_loss: 0.6067 - val_accuracy: 0.8672\n",
            "Epoch 22/50\n",
            "354/354 [==============================] - 4s 12ms/step - loss: 0.0213 - accuracy: 0.9944 - val_loss: 0.4820 - val_accuracy: 0.8955\n",
            "Epoch 23/50\n",
            "354/354 [==============================] - 4s 12ms/step - loss: 0.2823 - accuracy: 0.9301 - val_loss: 0.8045 - val_accuracy: 0.7768\n",
            "Epoch 24/50\n",
            "354/354 [==============================] - 5s 14ms/step - loss: 0.1499 - accuracy: 0.9668 - val_loss: 0.3598 - val_accuracy: 0.8955\n",
            "Epoch 25/50\n",
            "354/354 [==============================] - 4s 12ms/step - loss: 0.0302 - accuracy: 0.9936 - val_loss: 0.3536 - val_accuracy: 0.8983\n",
            "Epoch 26/50\n",
            "354/354 [==============================] - 4s 12ms/step - loss: 0.0197 - accuracy: 0.9965 - val_loss: 0.3943 - val_accuracy: 0.9068\n",
            "Epoch 27/50\n",
            "354/354 [==============================] - 5s 13ms/step - loss: 0.0187 - accuracy: 0.9951 - val_loss: 0.4003 - val_accuracy: 0.9040\n",
            "Epoch 28/50\n",
            "354/354 [==============================] - 6s 16ms/step - loss: 0.0157 - accuracy: 0.9965 - val_loss: 0.4485 - val_accuracy: 0.9068\n",
            "Epoch 29/50\n",
            "354/354 [==============================] - 6s 16ms/step - loss: 0.0146 - accuracy: 0.9965 - val_loss: 0.4814 - val_accuracy: 0.8983\n",
            "Epoch 30/50\n",
            "354/354 [==============================] - 6s 17ms/step - loss: 0.0159 - accuracy: 0.9965 - val_loss: 0.5044 - val_accuracy: 0.9040\n",
            "Epoch 31/50\n",
            "354/354 [==============================] - 5s 15ms/step - loss: 0.2370 - accuracy: 0.9400 - val_loss: 0.5700 - val_accuracy: 0.8531\n",
            "Epoch 32/50\n",
            "354/354 [==============================] - 6s 17ms/step - loss: 0.0712 - accuracy: 0.9831 - val_loss: 0.5969 - val_accuracy: 0.8672\n",
            "Epoch 33/50\n",
            "354/354 [==============================] - 6s 17ms/step - loss: 0.1066 - accuracy: 0.9725 - val_loss: 0.5191 - val_accuracy: 0.8701\n",
            "Epoch 34/50\n",
            "354/354 [==============================] - 6s 16ms/step - loss: 0.0250 - accuracy: 0.9936 - val_loss: 0.4523 - val_accuracy: 0.8870\n",
            "Epoch 35/50\n",
            "354/354 [==============================] - 6s 17ms/step - loss: 0.0281 - accuracy: 0.9908 - val_loss: 0.4621 - val_accuracy: 0.8983\n",
            "Epoch 36/50\n",
            "354/354 [==============================] - 6s 17ms/step - loss: 0.0836 - accuracy: 0.9831 - val_loss: 0.9361 - val_accuracy: 0.7797\n",
            "Epoch 37/50\n",
            "354/354 [==============================] - 6s 16ms/step - loss: 0.0970 - accuracy: 0.9710 - val_loss: 0.4032 - val_accuracy: 0.9040\n",
            "Epoch 38/50\n",
            "354/354 [==============================] - 6s 16ms/step - loss: 0.0214 - accuracy: 0.9958 - val_loss: 0.4552 - val_accuracy: 0.8927\n",
            "Epoch 39/50\n",
            "354/354 [==============================] - 6s 18ms/step - loss: 0.0134 - accuracy: 0.9972 - val_loss: 0.4543 - val_accuracy: 0.9011\n",
            "Epoch 40/50\n",
            "354/354 [==============================] - 6s 17ms/step - loss: 0.0114 - accuracy: 0.9972 - val_loss: 0.4850 - val_accuracy: 0.8898\n",
            "Epoch 41/50\n",
            "354/354 [==============================] - 6s 17ms/step - loss: 0.0110 - accuracy: 0.9972 - val_loss: 0.4920 - val_accuracy: 0.8927\n",
            "Epoch 42/50\n",
            "354/354 [==============================] - 6s 17ms/step - loss: 0.0103 - accuracy: 0.9972 - val_loss: 0.5543 - val_accuracy: 0.8927\n",
            "Epoch 43/50\n",
            "354/354 [==============================] - 6s 16ms/step - loss: 0.0094 - accuracy: 0.9972 - val_loss: 0.5665 - val_accuracy: 0.8898\n",
            "Epoch 44/50\n",
            "354/354 [==============================] - 4s 11ms/step - loss: 0.0113 - accuracy: 0.9965 - val_loss: 0.7677 - val_accuracy: 0.8842\n",
            "Epoch 45/50\n",
            "354/354 [==============================] - 4s 11ms/step - loss: 0.2845 - accuracy: 0.9435 - val_loss: 0.7985 - val_accuracy: 0.8220\n",
            "Epoch 46/50\n",
            "354/354 [==============================] - 4s 12ms/step - loss: 0.0423 - accuracy: 0.9908 - val_loss: 0.4700 - val_accuracy: 0.8983\n",
            "Epoch 47/50\n",
            "354/354 [==============================] - 4s 12ms/step - loss: 0.0153 - accuracy: 0.9972 - val_loss: 0.4534 - val_accuracy: 0.9011\n",
            "Epoch 48/50\n",
            "354/354 [==============================] - 4s 11ms/step - loss: 0.0106 - accuracy: 0.9972 - val_loss: 0.4653 - val_accuracy: 0.9096\n",
            "Epoch 49/50\n",
            "354/354 [==============================] - 4s 11ms/step - loss: 0.0093 - accuracy: 0.9979 - val_loss: 0.4806 - val_accuracy: 0.9068\n",
            "Epoch 50/50\n",
            "354/354 [==============================] - 4s 11ms/step - loss: 0.0081 - accuracy: 0.9979 - val_loss: 0.4864 - val_accuracy: 0.9124\n"
          ]
        },
        {
          "data": {
            "text/plain": [
              "<keras.callbacks.History at 0x26c22ebb190>"
            ]
          },
          "execution_count": 75,
          "metadata": {},
          "output_type": "execute_result"
        }
      ],
      "source": [
        "model.fit( train_data , validation_data=validation_data , epochs=25)"
      ]
    },
    {
      "cell_type": "code",
      "execution_count": 77,
      "metadata": {},
      "outputs": [],
      "source": [
        "model.save('audio_classification_model.h5')"
      ]
    },
    {
      "cell_type": "markdown",
      "metadata": {},
      "source": [
        "## predict data"
      ]
    },
    {
      "cell_type": "code",
      "execution_count": 165,
      "metadata": {},
      "outputs": [
        {
          "name": "stdout",
          "output_type": "stream",
          "text": [
            "Found 1 files belonging to 1 classes.\n"
          ]
        }
      ],
      "source": [
        "test_data = tf.keras.utils.audio_dataset_from_directory(\n",
        "    \"./test/\",\n",
        "    shuffle=False,\n",
        "    batch_size=2,\n",
        "    output_sequence_length= 48000,\n",
        "    ragged= False, \n",
        "    labels=\"inferred\",\n",
        "    label_mode=\"categorical\",\n",
        "    sampling_rate= None,\n",
        "    seed=59\n",
        ")"
      ]
    },
    {
      "cell_type": "code",
      "execution_count": 162,
      "metadata": {},
      "outputs": [
        {
          "data": {
            "text/plain": [
              "array(['abdollah', 'azra', 'davood', 'javad', 'khadijeh', 'kiana',\n",
              "       'maryam', 'matin', 'melika', 'mohammad', 'mohammad_parvari',\n",
              "       'mona', 'nahid', 'nima', 'omid', 'parisa', 'parsa', 'sadegh',\n",
              "       'sajedeh', 'shima', 'tara'], dtype='<U16')"
            ]
          },
          "execution_count": 162,
          "metadata": {},
          "output_type": "execute_result"
        }
      ],
      "source": [
        "classes_labels = np.array(train_data.class_names)\n",
        "classes_labels"
      ]
    },
    {
      "cell_type": "code",
      "execution_count": 166,
      "metadata": {},
      "outputs": [
        {
          "name": "stdout",
          "output_type": "stream",
          "text": [
            "1/1 [==============================] - 0s 25ms/step\n",
            "Predictions:\n",
            " [[0 0 0 0 0 1 0 0 0 0 0 0 0 0 0 0 0 0 0 0 0]]\n"
          ]
        }
      ],
      "source": [
        "mode = tf.keras.models.load_model('audio_classification_model.h5')\n",
        "predictions = model.predict(test_data)\n",
        "predictions = tf.where(predictions > 0.8,1,0) # اینجا میایم و اون کلاسی که احتمالش از ۰.۸ بیشتره رو ۱ میاریم و بقیه رو صفر \n",
        "print('Predictions:\\n', predictions.numpy())"
      ]
    },
    {
      "cell_type": "code",
      "execution_count": 168,
      "metadata": {},
      "outputs": [
        {
          "name": "stdout",
          "output_type": "stream",
          "text": [
            "The owner of tested audio is : kiana\n",
            "Accuracy: 1\n"
          ]
        }
      ],
      "source": [
        "for i,voice in enumerate(predictions):\n",
        "    \n",
        "    probability = predictions[i]\n",
        "    predicted_class_index = np.argmax(probability)\n",
        "\n",
        "    predicted_class = classes_labels[predicted_class_index]\n",
        "    accuracy = probability[predicted_class_index]\n",
        "    print(f'The owner of tested audio is : {predicted_class}')\n",
        "    print(f'Accuracy: {accuracy}')\n"
      ]
    },
    {
      "cell_type": "markdown",
      "metadata": {},
      "source": []
    },
    {
      "cell_type": "markdown",
      "metadata": {},
      "source": [
        "## explanation of occurred errors :\n",
        "\n",
        "### 1st error :   \n",
        "ValueError: Shapes (None, 21) and (None, 64) are incompatible <br/>\n",
        "عدد ۲۱ تعداد افراد یا کلاس هاست ، ولی تعداد نرون های لایه آخر رو ۶۴ گذاشتیم <br/>\n",
        "\n",
        "\n",
        "### 2nd error : \n",
        "InvalidArgumentError: Graph execution error: Header mismatch: Expected RIFF but found ID3  <br/>\n",
        "این خطا به دلیل این است که در هنگام ساخت دیتاست فرمت ویو رو براش تعیین نکردیم در خط آخر \n",
        "chunk.export(os.path.join(\"dataset\" , person_name , f\"voice_{i}.wav\" ))\n",
        "<br/>\n",
        "solution : <br/>\n",
        "chunk.export(os.path.join(\"dataset\" , person_name , f\"voice_{i}.wav\" ) , format=\"wav\")\n",
        "<br/>\n",
        "\n",
        "### 3rd-errror : \n",
        "converting 32 bit wav file data into 16 bit :\n",
        "audio = audio.set_sample_width(2) \n",
        "yani har sample toolesh 2 byte ya 16 bit beshe \n",
        "<br/>\n",
        "\n",
        "### 4th error : \n",
        "صدای ۲ کاناله یا استریو بودن وویس باعث ایجاد این اررو می شود  <br/>\n",
        "به خاطر چند بعدی بودن فایل صدا یا استریو بودن  \n",
        "input must be (48000,1) , but some data are (48000, 2) !  <br/>\n",
        "it's bc of sample rate . <br/>\n",
        "گفتیم که هر دیتا یک ثانیه است . اما توی همین یک ثانیه ۴۸۰۰۰ تا دیتا با فرکانس های مختلف وجود داره . <br/>\n",
        "48000 number of data are in 1 second of an audio\n",
        "\n",
        "+ final codes that added into make_dataset last cell (in class case): <br/>\n",
        "audio = audio.set_sample_width(2)   \n",
        "audio = audio.set_frame_rate(48000)  # its like resizing but with that same channels <br/>\n",
        "audio = audio.set_channels(1) \n",
        "\n",
        "\n",
        "### 5th error :\n",
        "now we should update or delete all files in *dataset folder* , and create them again . \n",
        "\n",
        "\n"
      ]
    },
    {
      "cell_type": "markdown",
      "metadata": {},
      "source": [
        "models for audio task :M3 , M5 , M11 , M18"
      ]
    }
  ],
  "metadata": {
    "colab": {
      "provenance": []
    },
    "kernelspec": {
      "display_name": "Python 3",
      "name": "python3"
    },
    "language_info": {
      "codemirror_mode": {
        "name": "ipython",
        "version": 3
      },
      "file_extension": ".py",
      "mimetype": "text/x-python",
      "name": "python",
      "nbconvert_exporter": "python",
      "pygments_lexer": "ipython3",
      "version": "3.10.1"
    }
  },
  "nbformat": 4,
  "nbformat_minor": 0
}
