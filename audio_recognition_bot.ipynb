{
  "cells": [
    {
      "cell_type": "code",
      "execution_count": null,
      "metadata": {
        "colab": {
          "base_uri": "https://localhost:8080/"
        },
        "id": "_HMwoVlmxZ42",
        "outputId": "f7c30520-2cd8-4520-f4fa-ca7a7eec4796"
      },
      "outputs": [],
      "source": [
        "!pip install TeleBot\n",
        "!pip install pyTelegramBotAPI\n",
        "!pip install telegram\n",
        "!pip install pydub"
      ]
    },
    {
      "cell_type": "code",
      "execution_count": 2,
      "metadata": {
        "id": "BrIVv8nrxWyQ"
      },
      "outputs": [],
      "source": [
        "import os\n",
        "import telebot\n",
        "import telegram\n",
        "import tensorflow as tf\n",
        "import numpy as np\n",
        "import pydub\n"
      ]
    },
    {
      "cell_type": "code",
      "execution_count": 29,
      "metadata": {
        "id": "lfilYE7wxWyR"
      },
      "outputs": [],
      "source": [
        "bot = telebot.TeleBot(\"6370453544:AAEI0zlqAp9HaPkuQv3o448Qs5YoYN1qSbs\")\n",
        "model = tf.keras.models.load_model(\"audio_classification_model.h5\")"
      ]
    },
    {
      "cell_type": "code",
      "execution_count": null,
      "metadata": {
        "id": "SV4Av9WUxWyR"
      },
      "outputs": [],
      "source": [
        "bot = telebot.TeleBot(\"6370453544:AAEI0zlqAp9HaPkuQv3o448Qs5YoYN1qSbs\")\n",
        "model = tf.keras.models.load_model(\"audio_classification_model.h5\")\n",
        "\n",
        "@bot.message_handler(commands=[\"start\"])\n",
        "def send_welcome(message):\n",
        "    bot.send_message(message.chat.id , \"Hello \" + message.from_user.first_name + \"\\nWelcome to Audio Recognizer bot🎙🎵🔊\" )\n",
        "    help(message)\n",
        "\n",
        "@bot.message_handler(commands=['help'])\n",
        "def help(message):\n",
        "    my_keyboard= telebot.types.ReplyKeyboardMarkup(row_width=3)\n",
        "    key1 = telebot.types.KeyboardButton(\"/Friends_voice_recognition\")\n",
        "    key2 = telebot.types.KeyboardButton(\"/Singers_voice_recognition\")\n",
        "    my_keyboard.row(key1)\n",
        "    my_keyboard.row(key2)\n",
        "    bot.send_message(message.chat.id ,\"Choose one of the below keys :\" , reply_markup=my_keyboard)\n",
        "\n",
        "\n",
        "@bot.message_handler(commands=['Friends_voice_recognition'])\n",
        "def mymessage(message):\n",
        "  message1 = bot.send_message(message.chat.id , \"Now send a voice ... \")\n",
        "  bot.register_next_step_handler(message1 , friends_voice_recognizer)\n",
        "\n",
        "@bot.message_handler(content_types=['voice'])\n",
        "def friends_voice_recognizer(message):\n",
        "  file_id = message.voice.file_id\n",
        "  new_file = bot.get_file(file_id)\n",
        "  file_path = bot.get_file(file_id).file_path\n",
        "  downloaded_file = bot.download_file(file_path)\n",
        "  try:\n",
        "      with open(\"/content/data/voice.ogg\", 'wb') as new_file:\n",
        "          new_file.write(downloaded_file)\n",
        "  except Exception as e:\n",
        "      bot.reply_to(message, \"Error saving file.\")\n",
        "      return\n",
        "\n",
        "  audio = pydub.AudioSegment.from_file(\"/content/data/voice.ogg\")\n",
        "  audio_array = audio.get_array_of_samples()\n",
        "  silent_chunks = pydub.silence.split_on_silence(audio , min_silence_len=2000 , silence_thresh=-45)\n",
        "  result = sum(silent_chunks)\n",
        "  result.export(\"/content/wav_data/voice.wav\")\n",
        "  audio = pydub.AudioSegment.from_file(\"/content/wav_data/voice.wav\")\n",
        "  chunks = pydub.utils.make_chunks(audio , 1000)\n",
        "\n",
        "  for i , chunk in enumerate(chunks) :\n",
        "      if len(chunk) >= 1000 :\n",
        "          chunk.export(os.path.join(\"/content/dataset/z\" , \"fvoice.wav\") , format=\"wav\")\n",
        "\n",
        "\n",
        "  test_data = tf.keras.utils.audio_dataset_from_directory(\n",
        "    \"/content/dataset\",\n",
        "    shuffle=False,batch_size=2,output_sequence_length= 48000,ragged= False,\n",
        "    labels=\"inferred\",label_mode=\"categorical\",sampling_rate= None,seed=59\n",
        "  )\n",
        "\n",
        "  classes_labels = np.array(['abdollah', 'azra', 'davood', 'javad', 'khadijeh', 'kiana','maryam', 'matin','melika', 'mohammad',\n",
        "                             'mohammad_parvari','mona', 'nahid', 'nima', 'omid', 'parisa','parsa', 'sadegh', 'sajedeh', 'shima', 'tara'])\n",
        "  predictions = model.predict(test_data)\n",
        "  probability = predictions\n",
        "  predicted_class_index = np.argmax(probability)\n",
        "  print(predicted_class_index)\n",
        "  predicted_class = classes_labels[predicted_class_index]\n",
        "  print(predicted_class)\n",
        "  print(f'The owner of this voice is : {predicted_class}')\n",
        "  bot.send_message(chat_id= message.chat.id , text=f'The owner of this voice is  :  {predicted_class}')\n",
        "\n",
        "\n",
        "#~~~~~~~~~~~~~~~~ singers audio recognition ~~~~~~~~~~~~~~~~~~~~~~~~~~~~\n",
        "@bot.message_handler(commands=['Singers_voice_recognition'])\n",
        "def mymessage2(message):\n",
        "  message2 = bot.send_message(message.chat.id , \"Now send a song...\")\n",
        "  bot.register_next_step_handler(message2 , singers_voice_recognition)\n",
        "\n",
        "@bot.message_handler(content_types=['audio'])\n",
        "def singers_voice_recognition(message):\n",
        "  bot.send_dice(chat_id=message.chat.id , emoji=\"🎲\")\n",
        "\n",
        "\n",
        "\n",
        "bot.infinity_polling()"
      ]
    }
  ],
  "metadata": {
    "colab": {
      "provenance": []
    },
    "kernelspec": {
      "display_name": "Python 3",
      "language": "python",
      "name": "python3"
    },
    "language_info": {
      "codemirror_mode": {
        "name": "ipython",
        "version": 3
      },
      "file_extension": ".py",
      "mimetype": "text/x-python",
      "name": "python",
      "nbconvert_exporter": "python",
      "pygments_lexer": "ipython3",
      "version": "3.10.1"
    }
  },
  "nbformat": 4,
  "nbformat_minor": 0
}
