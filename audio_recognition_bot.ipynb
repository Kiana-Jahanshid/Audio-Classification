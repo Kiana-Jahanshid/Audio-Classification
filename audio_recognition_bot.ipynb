{
  "cells": [
    {
      "cell_type": "code",
      "source": [
        "!pip install TeleBot\n",
        "!pip install pyTelegramBotAPI\n",
        "!pip install telegram\n",
        "!pip install pydub"
      ],
      "metadata": {
        "id": "_HMwoVlmxZ42"
      },
      "execution_count": null,
      "outputs": []
    },
    {
      "cell_type": "code",
      "execution_count": 2,
      "metadata": {
        "id": "BrIVv8nrxWyQ"
      },
      "outputs": [],
      "source": [
        "import os\n",
        "import telebot\n",
        "import telegram\n",
        "import tensorflow as tf\n",
        "import numpy as np\n",
        "import pydub"
      ]
    },
    {
      "cell_type": "code",
      "execution_count": 20,
      "metadata": {
        "id": "lfilYE7wxWyR"
      },
      "outputs": [],
      "source": [
        "bot = telebot.TeleBot(\"6370453544:AAEI0zlqAp9HaPkuQv3o448Qs5YoYN1qSbs\")\n",
        "model = tf.keras.models.load_model(\"audio_classification_model.h5\")"
      ]
    },
    {
      "cell_type": "code",
      "execution_count": 21,
      "metadata": {
        "colab": {
          "base_uri": "https://localhost:8080/"
        },
        "id": "SV4Av9WUxWyR",
        "outputId": "1ec5a72a-8bb3-4e7a-850a-12f1771e7f66"
      },
      "outputs": [
        {
          "output_type": "stream",
          "name": "stdout",
          "text": [
            "AwACAgQAAxkBAAPVZYcpQChdTVE_ZRIemBOK12suTOsAAvkRAALvoDlQszQj1OKE6W8zBA\n",
            "Found 1 files belonging to 1 classes.\n",
            "1/1 [==============================] - 0s 214ms/step\n",
            "19\n",
            "shima\n",
            "The owner of this voice is : shima\n",
            "AwACAgQAAxkBAAPXZYcpRohaxvTq-dNyie0qxDE1Y38AAvoRAALvoDlQ5EagK66LD8IzBA\n",
            "Found 1 files belonging to 1 classes.\n",
            "1/1 [==============================] - 0s 32ms/step\n",
            "5\n",
            "kiana\n",
            "The owner of this voice is : kiana\n",
            "AwACAgQAAxkBAAPZZYcpTtSVYnr6ifgjDHu5LoxC6qcAAvsRAALvoDlQ4zCdke8AAVZgMwQ\n",
            "Found 1 files belonging to 1 classes.\n",
            "1/1 [==============================] - 0s 33ms/step\n",
            "20\n",
            "tara\n",
            "The owner of this voice is : tara\n",
            "AwACAgQAAxkBAAPbZYcpVCGPocg-MpEH9u81TFc1wpEAAvwRAALvoDlQgfV6FBq8RdszBA\n",
            "Found 1 files belonging to 1 classes.\n",
            "1/1 [==============================] - 0s 33ms/step\n",
            "0\n",
            "abdollah\n",
            "The owner of this voice is : abdollah\n",
            "AwACAgQAAxkBAAPdZYcpYNt8p95sUblrf-vXUQM2wLQAAv0RAALvoDlQ0HWSPAnuCpUzBA\n",
            "Found 1 files belonging to 1 classes.\n",
            "1/1 [==============================] - 0s 35ms/step\n",
            "0\n",
            "abdollah\n",
            "The owner of this voice is : abdollah\n",
            "AwACAgQAAxkBAAPfZYcpZqcaz6Li-xgFtgABWbaQhJ4tAAL-EQAC76A5UHkHiZWaxX07MwQ\n",
            "Found 1 files belonging to 1 classes.\n",
            "1/1 [==============================] - 0s 34ms/step\n",
            "5\n",
            "kiana\n",
            "The owner of this voice is : kiana\n",
            "AwACAgQAAxkBAAPhZYcpb0cu_nuy7Odkou8_5ZQQmecAAv8RAALvoDlQhD0hu5D3B1QzBA\n",
            "Found 1 files belonging to 1 classes.\n",
            "1/1 [==============================] - 0s 32ms/step\n",
            "15\n",
            "parisa\n",
            "The owner of this voice is : parisa\n",
            "AwACAgQAAxkBAAPjZYcpeaKwpIBv-NRHTnzZhSajqf4AAxIAAu-gOVBFLot20vYlRTME\n",
            "Found 1 files belonging to 1 classes.\n",
            "1/1 [==============================] - 0s 33ms/step\n",
            "15\n",
            "parisa\n",
            "The owner of this voice is : parisa\n",
            "AwACAgQAAxkBAAPlZYcpggTfzmBQwZDYkD9km7Z5E2QAAgESAALvoDlQz1hddij_nfkzBA\n",
            "Found 1 files belonging to 1 classes.\n",
            "1/1 [==============================] - 0s 33ms/step\n",
            "20\n",
            "tara\n",
            "The owner of this voice is : tara\n",
            "AwACAgQAAxkBAAPnZYcplu6ELNvqpaB_3WIU4L9-GWwAAgISAALvoDlQOEj0YzPiECozBA\n",
            "Found 1 files belonging to 1 classes.\n",
            "1/1 [==============================] - 0s 33ms/step\n",
            "5\n",
            "kiana\n",
            "The owner of this voice is : kiana\n"
          ]
        },
        {
          "output_type": "stream",
          "name": "stderr",
          "text": [
            "2023-12-23 18:41:08,001 (__init__.py:968 MainThread) ERROR - TeleBot: \"Infinity polling: polling exited\"\n",
            "ERROR:TeleBot:Infinity polling: polling exited\n",
            "2023-12-23 18:41:08,008 (__init__.py:970 MainThread) ERROR - TeleBot: \"Break infinity polling\"\n",
            "ERROR:TeleBot:Break infinity polling\n"
          ]
        }
      ],
      "source": [
        "@bot.message_handler(commands=[\"start\"])\n",
        "def send_welcome(message):\n",
        "    bot.send_message(message.chat.id , \"Hello \" + message.from_user.first_name + \"\\nWelcome to Audio Recognizer bot🎙🎵🔊\"\n",
        "                     + \"\\n\\nSend a voice and wait for the result ... \" )\n",
        "\n",
        "\n",
        "@bot.message_handler(content_types=['voice'])\n",
        "def Audio_recognizer(message):\n",
        "  file_id = message.voice.file_id\n",
        "  new_file = bot.get_file(file_id)\n",
        "  file_path = bot.get_file(file_id).file_path\n",
        "  downloaded_file = bot.download_file(file_path)\n",
        "  try:\n",
        "      with open(\"/content/data/voice.ogg\", 'wb') as new_file:\n",
        "          new_file.write(downloaded_file)\n",
        "  except Exception as e:\n",
        "      bot.reply_to(message, \"Error saving file.\")\n",
        "      return\n",
        "\n",
        "\n",
        "  audio = pydub.AudioSegment.from_file(\"/content/data/voice.ogg\")\n",
        "  audio_array = audio.get_array_of_samples()\n",
        "  silent_chunks = pydub.silence.split_on_silence(audio , min_silence_len=2000 , silence_thresh=-45)\n",
        "  result = sum(silent_chunks)\n",
        "  result.export(\"/content/wav_data/voice.wav\")\n",
        "  audio = pydub.AudioSegment.from_file(\"/content/wav_data/voice.wav\")\n",
        "  chunks = pydub.utils.make_chunks(audio , 1000)\n",
        "\n",
        "  for i , chunk in enumerate(chunks) :\n",
        "      if len(chunk) >= 1000 :\n",
        "          chunk.export(os.path.join(\"/content/dataset/z\" , \"fvoice.wav\") , format=\"wav\")\n",
        "\n",
        "\n",
        "  test_data = tf.keras.utils.audio_dataset_from_directory(\n",
        "    \"/content/dataset\",\n",
        "    shuffle=False,\n",
        "    batch_size=2,\n",
        "    output_sequence_length= 48000,\n",
        "    ragged= False,\n",
        "    labels=\"inferred\",\n",
        "    label_mode=\"categorical\",\n",
        "    sampling_rate= None,\n",
        "    seed=59\n",
        "  )\n",
        "\n",
        "  classes_labels = np.array(['abdollah', 'azra', 'davood', 'javad', 'khadijeh', 'kiana','maryam', 'matin',\n",
        "                             'melika', 'mohammad', 'mohammad_parvari','mona', 'nahid', 'nima', 'omid', 'parisa',\n",
        "                             'parsa', 'sadegh', 'sajedeh', 'shima', 'tara'])\n",
        "  predictions = model.predict(test_data)\n",
        "  probability = predictions\n",
        "  predicted_class_index = np.argmax(probability)\n",
        "  print(predicted_class_index)\n",
        "  predicted_class = classes_labels[predicted_class_index]\n",
        "  print(predicted_class)\n",
        "  print(f'The owner of this voice is : {predicted_class}')\n",
        "  bot.send_message(chat_id= message.chat.id , text=f'The owner of this voice is  :  {predicted_class}')\n",
        "\n",
        "\n",
        "\n",
        "bot.infinity_polling()"
      ]
    }
  ],
  "metadata": {
    "kernelspec": {
      "display_name": "Python 3",
      "language": "python",
      "name": "python3"
    },
    "language_info": {
      "codemirror_mode": {
        "name": "ipython",
        "version": 3
      },
      "file_extension": ".py",
      "mimetype": "text/x-python",
      "name": "python",
      "nbconvert_exporter": "python",
      "pygments_lexer": "ipython3",
      "version": "3.10.1"
    },
    "colab": {
      "provenance": []
    }
  },
  "nbformat": 4,
  "nbformat_minor": 0
}